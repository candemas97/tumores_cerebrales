{
  "cells": [
    {
      "cell_type": "code",
      "execution_count": 1,
      "metadata": {
        "colab": {
          "base_uri": "https://localhost:8080/"
        },
        "id": "Sg0HeYwkM48V",
        "outputId": "1ee874f0-458f-4d6a-bd34-83fb6c66761a"
      },
      "outputs": [
        {
          "name": "stderr",
          "output_type": "stream",
          "text": [
            "'apt' is not recognized as an internal or external command,\n",
            "operable program or batch file.\n",
            "'apt' is not recognized as an internal or external command,\n",
            "operable program or batch file.\n",
            "'wget' is not recognized as an internal or external command,\n",
            "operable program or batch file.\n",
            "'dpkg' is not recognized as an internal or external command,\n",
            "operable program or batch file.\n",
            "Cloning into 'StableSwarmUI'...\n"
          ]
        }
      ],
      "source": [
        "!apt update\n",
        "\n",
        "# Install apt dependencies\n",
        "!apt install dotnet-sdk-7.0 git\n",
        "\n",
        "# Install Clouldflared (not on apt)\n",
        "!wget https://github.com/cloudflare/cloudflared/releases/latest/download/cloudflared-linux-amd64.deb\n",
        "!dpkg -i cloudflared-linux-amd64.deb\n",
        "\n",
        "# Download StableSwarmUI\n",
        "!git clone https://github.com/Stability-AI/StableSwarmUI\n"
      ]
    },
    {
      "cell_type": "code",
      "execution_count": 2,
      "metadata": {
        "colab": {
          "base_uri": "https://localhost:8080/"
        },
        "id": "K9Oer9TVObYA",
        "outputId": "178bbaec-99b9-47b4-dd0a-c2b21513aa08"
      },
      "outputs": [
        {
          "name": "stdout",
          "output_type": "stream",
          "text": [
            "c:\\Users\\cande\\OneDrive\\Documentos\\1. Documentos Candé\\Universidad\\Maestria - Analitica para la Inteligencia de Negocios\\3. Tercer Semestre\\Procesamiento de Imagenes y Videos\\Proyecto\\Stable Diffusion\\StableSwarmUI\n"
          ]
        },
        {
          "name": "stderr",
          "output_type": "stream",
          "text": [
            "<3>WSL (17) ERROR: CreateProcessEntryCommon:370: getpwuid(0) failed 2\n",
            "<3>WSL (17) ERROR: CreateProcessEntryCommon:374: getpwuid(0) failed 2\n",
            "<3>WSL (17) ERROR: CreateProcessEntryCommon:577: execvpe /bin/bash failed 2\n",
            "<3>WSL (17) ERROR: CreateProcessEntryCommon:586: Create process not expected to return\n"
          ]
        }
      ],
      "source": [
        "# Alright, launch it! Watch the output for a Cloudflare URL\n",
        "%cd ./StableSwarmUI/\n",
        "\n",
        "!bash ./launch-linux.sh --launch_mode none --cloudflared-path cloudflared --explicit_shell bash"
      ]
    }
  ],
  "metadata": {
    "colab": {
      "provenance": []
    },
    "kernelspec": {
      "display_name": "Python 3",
      "name": "python3"
    },
    "language_info": {
      "codemirror_mode": {
        "name": "ipython",
        "version": 3
      },
      "file_extension": ".py",
      "mimetype": "text/x-python",
      "name": "python",
      "nbconvert_exporter": "python",
      "pygments_lexer": "ipython3",
      "version": "3.11.2"
    }
  },
  "nbformat": 4,
  "nbformat_minor": 0
}
